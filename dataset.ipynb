{
 "cells": [
  {
   "cell_type": "code",
   "execution_count": 6,
   "metadata": {},
   "outputs": [],
   "source": [
    "import pandas as pd\n",
    "import numpy as np\n",
    "import os \n",
    "import glob\n",
    "import torch\n",
    "from featout_exp import BATCHSIZE, IMAGESIZE\n",
    "import pathlib"
   ]
  },
  {
   "cell_type": "code",
   "execution_count": 7,
   "metadata": {},
   "outputs": [],
   "source": [
    "CATS = pathlib.Path(\"PetImages/Cat\")\n",
    "DOGS = pathlib.Path(\"PetImages/Dog\")"
   ]
  },
  {
   "cell_type": "code",
   "execution_count": 8,
   "metadata": {},
   "outputs": [
    {
     "data": {
      "text/plain": [
       "(Label\n",
       " Cat    6250\n",
       " Dog    6250\n",
       " Name: count, dtype: int64,\n",
       " Label\n",
       " Cat    6250\n",
       " Dog    6250\n",
       " Name: count, dtype: int64)"
      ]
     },
     "execution_count": 8,
     "metadata": {},
     "output_type": "execute_result"
    }
   ],
   "source": [
    "cats = sorted([ i for i in os.listdir(CATS) if \".jpg\" in i])\n",
    "dogs = sorted([ i for i in os.listdir(DOGS) if \".jpg\" in i])\n",
    "\n",
    "cats = pd.Series(cats, name= \"Path\"  ).to_frame()\n",
    "cats[\"Label\"] = \"Cat\"\n",
    "cats = cats.sample(frac= 1, random_state= 0)\n",
    "cats[\"Path\"] = \"PetImages/Cat/\" + cats[\"Path\"]\n",
    "\n",
    "dogs = pd.Series(dogs, name= \"Path\"  ).to_frame()\n",
    "dogs[\"Label\"] = \"Dog\"\n",
    "dogs = dogs.sample(frac= 1, random_state= 0)\n",
    "dogs[\"Path\"] = \"PetImages/Dog/\" + dogs[\"Path\"]\n",
    "\n",
    "\n",
    "# get firsthalf\n",
    "\n",
    "index = 12500//2\n",
    "\n",
    "first_half = pd.concat((cats.iloc[:index], dogs.iloc[:index])).sample(frac = 1, random_state = 0)\n",
    "second_half = pd.concat((cats.iloc[index:], dogs.iloc[index:])).sample(frac = 1, random_state = 0)\n",
    "\n",
    "assert first_half.Path.apply(os.path.exists).all()\n",
    "assert second_half.Path.apply(os.path.exists).all()\n",
    "\n",
    "first_half.value_counts(\"Label\"),  second_half.value_counts(\"Label\"),"
   ]
  },
  {
   "cell_type": "code",
   "execution_count": 11,
   "metadata": {},
   "outputs": [
    {
     "name": "stderr",
     "output_type": "stream",
     "text": [
      " 42%|████▏     | 5259/12500 [00:13<00:16, 433.64it/s]/home/felix/miniconda3/envs/torch/lib/python3.11/site-packages/PIL/TiffImagePlugin.py:858: UserWarning: Truncated File Read\n",
      "  warnings.warn(str(msg))\n",
      "100%|██████████| 12500/12500 [00:30<00:00, 411.44it/s]\n"
     ]
    },
    {
     "name": "stdout",
     "output_type": "stream",
     "text": [
      "missing 1\n"
     ]
    },
    {
     "name": "stderr",
     "output_type": "stream",
     "text": [
      "100%|██████████| 12500/12500 [00:34<00:00, 360.38it/s]"
     ]
    },
    {
     "name": "stdout",
     "output_type": "stream",
     "text": [
      "missing 1\n"
     ]
    },
    {
     "name": "stderr",
     "output_type": "stream",
     "text": [
      "\n"
     ]
    }
   ],
   "source": [
    "from PIL import Image\n",
    "import tqdm\n",
    " \n",
    "def can_load_image(path):\n",
    "\n",
    "        try:\n",
    "            \n",
    "            Image.open(str(path)).convert('RGB')\n",
    "            return True\n",
    "        except:\n",
    "            \n",
    "            return False\n",
    "    \n",
    " \n",
    "mask = [can_load_image(i) for i in tqdm.tqdm(first_half.Path)]\n",
    "mask = np.array(mask)\n",
    "\n",
    "print(\"missing\", (mask == 0).sum())\n",
    "\n",
    "first_half = first_half.loc[mask]\n",
    " \n",
    " \n",
    "mask = [can_load_image(i) for i in tqdm.tqdm(second_half.Path)]\n",
    "mask = np.array(mask)\n",
    "\n",
    "print(\"missing\", (mask == 0).sum())\n",
    "\n",
    "second_half = second_half.loc[mask]"
   ]
  },
  {
   "cell_type": "code",
   "execution_count": 12,
   "metadata": {},
   "outputs": [],
   "source": [
    "first_half.to_csv(\"csvs/first_half.csv\")\n",
    "second_half.to_csv(\"csvs/second_half.csv\")"
   ]
  },
  {
   "cell_type": "code",
   "execution_count": null,
   "metadata": {},
   "outputs": [],
   "source": []
  }
 ],
 "metadata": {
  "kernelspec": {
   "display_name": "torch",
   "language": "python",
   "name": "python3"
  },
  "language_info": {
   "codemirror_mode": {
    "name": "ipython",
    "version": 3
   },
   "file_extension": ".py",
   "mimetype": "text/x-python",
   "name": "python",
   "nbconvert_exporter": "python",
   "pygments_lexer": "ipython3",
   "version": "3.11.4"
  },
  "orig_nbformat": 4
 },
 "nbformat": 4,
 "nbformat_minor": 2
}
